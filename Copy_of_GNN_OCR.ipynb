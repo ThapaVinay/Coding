{
  "nbformat": 4,
  "nbformat_minor": 0,
  "metadata": {
    "colab": {
      "provenance": [],
      "mount_file_id": "1TpPGg6xLmXxsQ-fJjzhkNzF67O_ENk45",
      "authorship_tag": "ABX9TyNbQue7hANHP0r93pXyrIhD",
      "include_colab_link": true
    },
    "kernelspec": {
      "name": "python3",
      "display_name": "Python 3"
    },
    "language_info": {
      "name": "python"
    },
    "accelerator": "TPU",
    "gpuClass": "standard"
  },
  "cells": [
    {
      "cell_type": "markdown",
      "metadata": {
        "id": "view-in-github",
        "colab_type": "text"
      },
      "source": [
        "<a href=\"https://colab.research.google.com/github/ThapaVinay/Coding/blob/master/Copy_of_GNN_OCR.ipynb\" target=\"_parent\"><img src=\"https://colab.research.google.com/assets/colab-badge.svg\" alt=\"Open In Colab\"/></a>"
      ]
    },
    {
      "cell_type": "code",
      "execution_count": 2,
      "metadata": {
        "colab": {
          "base_uri": "https://localhost:8080/",
          "height": 974
        },
        "id": "SwoCGW7OSnWX",
        "outputId": "3cc2425b-8591-4a19-ad7b-79404bbf3f4d"
      },
      "outputs": [
        {
          "output_type": "stream",
          "name": "stdout",
          "text": [
            "Looking in indexes: https://pypi.org/simple, https://us-python.pkg.dev/colab-wheels/public/simple/\n",
            "Collecting torch-geometric\n",
            "  Downloading torch_geometric-2.2.0.tar.gz (564 kB)\n",
            "\u001b[2K     \u001b[90m━━━━━━━━━━━━━━━━━━━━━━━━━━━━━━━━━━━━━━\u001b[0m \u001b[32m565.0/565.0 KB\u001b[0m \u001b[31m10.0 MB/s\u001b[0m eta \u001b[36m0:00:00\u001b[0m\n",
            "\u001b[?25h  Preparing metadata (setup.py) ... \u001b[?25l\u001b[?25hdone\n",
            "Requirement already satisfied: tqdm in /usr/local/lib/python3.8/dist-packages (from torch-geometric) (4.64.1)\n",
            "Requirement already satisfied: numpy in /usr/local/lib/python3.8/dist-packages (from torch-geometric) (1.24.2)\n",
            "Requirement already satisfied: scipy in /usr/local/lib/python3.8/dist-packages (from torch-geometric) (1.10.1)\n",
            "Requirement already satisfied: jinja2 in /usr/local/lib/python3.8/dist-packages (from torch-geometric) (3.1.2)\n",
            "Requirement already satisfied: requests in /usr/local/lib/python3.8/dist-packages (from torch-geometric) (2.25.1)\n",
            "Requirement already satisfied: pyparsing in /usr/local/lib/python3.8/dist-packages (from torch-geometric) (3.0.9)\n",
            "Requirement already satisfied: scikit-learn in /usr/local/lib/python3.8/dist-packages (from torch-geometric) (1.2.1)\n",
            "Collecting psutil>=5.8.0\n",
            "  Downloading psutil-5.9.4-cp36-abi3-manylinux_2_12_x86_64.manylinux2010_x86_64.manylinux_2_17_x86_64.manylinux2014_x86_64.whl (280 kB)\n",
            "\u001b[2K     \u001b[90m━━━━━━━━━━━━━━━━━━━━━━━━━━━━━━━━━━━━━━\u001b[0m \u001b[32m280.2/280.2 KB\u001b[0m \u001b[31m26.9 MB/s\u001b[0m eta \u001b[36m0:00:00\u001b[0m\n",
            "\u001b[?25hRequirement already satisfied: MarkupSafe>=2.0 in /usr/local/lib/python3.8/dist-packages (from jinja2->torch-geometric) (2.1.2)\n",
            "Requirement already satisfied: urllib3<1.27,>=1.21.1 in /usr/local/lib/python3.8/dist-packages (from requests->torch-geometric) (1.26.14)\n",
            "Requirement already satisfied: certifi>=2017.4.17 in /usr/local/lib/python3.8/dist-packages (from requests->torch-geometric) (2022.12.7)\n",
            "Requirement already satisfied: chardet<5,>=3.0.2 in /usr/local/lib/python3.8/dist-packages (from requests->torch-geometric) (4.0.0)\n",
            "Requirement already satisfied: idna<3,>=2.5 in /usr/local/lib/python3.8/dist-packages (from requests->torch-geometric) (2.10)\n",
            "Requirement already satisfied: threadpoolctl>=2.0.0 in /usr/local/lib/python3.8/dist-packages (from scikit-learn->torch-geometric) (3.1.0)\n",
            "Requirement already satisfied: joblib>=1.1.1 in /usr/local/lib/python3.8/dist-packages (from scikit-learn->torch-geometric) (1.2.0)\n",
            "Building wheels for collected packages: torch-geometric\n",
            "  Building wheel for torch-geometric (setup.py) ... \u001b[?25l\u001b[?25hdone\n",
            "  Created wheel for torch-geometric: filename=torch_geometric-2.2.0-py3-none-any.whl size=773302 sha256=2818ee05e1b3bf469ca2a2a206ff99fd4020880fbdd053dd34dc502c31cf02c7\n",
            "  Stored in directory: /root/.cache/pip/wheels/59/a3/20/198928106d3169865ae73afcbd3d3d1796cf6b429b55c65378\n",
            "Successfully built torch-geometric\n",
            "Installing collected packages: psutil, torch-geometric\n",
            "  Attempting uninstall: psutil\n",
            "    Found existing installation: psutil 5.4.8\n",
            "    Uninstalling psutil-5.4.8:\n",
            "      Successfully uninstalled psutil-5.4.8\n",
            "Successfully installed psutil-5.9.4 torch-geometric-2.2.0\n"
          ]
        },
        {
          "output_type": "display_data",
          "data": {
            "application/vnd.colab-display-data+json": {
              "pip_warning": {
                "packages": [
                  "psutil"
                ]
              }
            }
          },
          "metadata": {}
        },
        {
          "output_type": "stream",
          "name": "stdout",
          "text": [
            "Looking in indexes: https://pypi.org/simple, https://us-python.pkg.dev/colab-wheels/public/simple/\n",
            "Looking in links: https://data.pyg.org/whl/torch-1.13.1+cu116.html\n",
            "Collecting torch-sparse\n",
            "  Downloading https://data.pyg.org/whl/torch-1.13.0%2Bcu116/torch_sparse-0.6.16%2Bpt113cu116-cp38-cp38-linux_x86_64.whl (4.5 MB)\n",
            "\u001b[2K     \u001b[90m━━━━━━━━━━━━━━━━━━━━━━━━━━━━━━━━━━━━━━━━\u001b[0m \u001b[32m4.5/4.5 MB\u001b[0m \u001b[31m43.5 MB/s\u001b[0m eta \u001b[36m0:00:00\u001b[0m\n",
            "\u001b[?25hRequirement already satisfied: scipy in /usr/local/lib/python3.8/dist-packages (from torch-sparse) (1.10.1)\n",
            "Requirement already satisfied: numpy<1.27.0,>=1.19.5 in /usr/local/lib/python3.8/dist-packages (from scipy->torch-sparse) (1.24.2)\n",
            "Installing collected packages: torch-sparse\n",
            "Successfully installed torch-sparse-0.6.16+pt113cu116\n",
            "Looking in indexes: https://pypi.org/simple, https://us-python.pkg.dev/colab-wheels/public/simple/\n",
            "Looking in links: https://data.pyg.org/whl/torch-1.13.1+cu116.html\n",
            "Collecting torch-scatter\n",
            "  Downloading https://data.pyg.org/whl/torch-1.13.0%2Bcu116/torch_scatter-2.1.0%2Bpt113cu116-cp38-cp38-linux_x86_64.whl (9.4 MB)\n",
            "\u001b[2K     \u001b[90m━━━━━━━━━━━━━━━━━━━━━━━━━━━━━━━━━━━━━━━━\u001b[0m \u001b[32m9.4/9.4 MB\u001b[0m \u001b[31m62.3 MB/s\u001b[0m eta \u001b[36m0:00:00\u001b[0m\n",
            "\u001b[?25hInstalling collected packages: torch-scatter\n",
            "Successfully installed torch-scatter-2.1.0+pt113cu116\n"
          ]
        }
      ],
      "source": [
        "!pip install torch-geometric\n",
        "!pip install torch-sparse -f https://data.pyg.org/whl/torch-1.13.1+cu116.html\n",
        "!pip install torch-scatter -f https://data.pyg.org/whl/torch-1.13.1+cu116.html"
      ]
    },
    {
      "cell_type": "code",
      "source": [
        "import numpy as np\n",
        "import pandas as pd\n",
        "import networkx as nx\n",
        "import torch\n",
        "import matplotlib.pyplot as plt\n"
      ],
      "metadata": {
        "id": "_8PXek29Sx3w"
      },
      "execution_count": 2,
      "outputs": []
    },
    {
      "cell_type": "code",
      "source": [
        "import os\n",
        "train_path = '/content/drive/MyDrive/train_data/'\n",
        "test_path = '/content/drive/MyDrive/test_data/'\n",
        "# files = os.listdir(path)[:3]    # only first three folders\n",
        "files = os.listdir(train_path)\n",
        "classes = {'1' :1}\n",
        "files"
      ],
      "metadata": {
        "colab": {
          "base_uri": "https://localhost:8080/"
        },
        "id": "sKYRKvsfx6_P",
        "outputId": "6ce9f599-3785-4ed4-c7de-5521107dda7d"
      },
      "execution_count": 3,
      "outputs": [
        {
          "output_type": "execute_result",
          "data": {
            "text/plain": [
              "['1']"
            ]
          },
          "metadata": {},
          "execution_count": 3
        }
      ]
    },
    {
      "cell_type": "code",
      "source": [
        "def get_label(img_name):\n",
        "  ind = img_name.index('.')\n",
        "  a = ord(img_name[ind-1]) - ord('0')\n",
        "  if(a % 2 == 0):\n",
        "      return 0\n",
        "  else:\n",
        "      return 1"
      ],
      "metadata": {
        "id": "-OjSen-FzNyW"
      },
      "execution_count": 4,
      "outputs": []
    },
    {
      "cell_type": "code",
      "source": [
        "from PIL import Image\n",
        "def read_image(img_path):\n",
        "  img = Image.open(img_path)\n",
        "  return img"
      ],
      "metadata": {
        "id": "LkiYKWFbTWsj"
      },
      "execution_count": 5,
      "outputs": []
    },
    {
      "cell_type": "code",
      "source": [
        "def img_to_array(img):\n",
        "  # print(img.size)  # width and height \n",
        "  img_array = np.array(img)\n",
        "  img_array = img_array\n",
        "  return img_array"
      ],
      "metadata": {
        "id": "00TwLevRUnQv"
      },
      "execution_count": 6,
      "outputs": []
    },
    {
      "cell_type": "code",
      "source": [
        "# Add nodes to the graph\n",
        "def img_to_graph(img_array):\n",
        "  G = nx.Graph()\n",
        "  rows, cols= img_array.shape\n",
        "  for i in range(rows):\n",
        "      for j in range(cols):\n",
        "          pixel = (img_array[i][j], img_array[i][j], img_array[i][j])\n",
        "          G.add_node((i, j), rgb = pixel)\n",
        "\n",
        "  # Add edges between adjacent nodes\n",
        "  for i in range(rows):\n",
        "      for j in range(cols):\n",
        "          if i < rows-1:\n",
        "              G.add_edge((i, j), (i+1, j))\n",
        "          if j < cols-1:\n",
        "              G.add_edge((i, j), (i, j+1))      \n",
        "  # plt.figure(figsize=(10,10))\n",
        "  # pos = {n: n for n in G.nodes()}\n",
        "  # nx.draw_networkx_nodes(G, pos, node_size=10, node_color=img.getdata())\n",
        "  # nx.draw_networkx_edges(G, pos, alpha=0.2)\n",
        "  # plt.axis('off')\n",
        "  # plt.show()\n",
        "  return G "
      ],
      "metadata": {
        "id": "HF8UH81da_F5"
      },
      "execution_count": 22,
      "outputs": []
    },
    {
      "cell_type": "code",
      "source": [
        "\n",
        "# def img_to_graph(img_array):\n",
        "#   # create a new graph\n",
        "#   G = nx.Graph()\n",
        "#   height, width = img_array.shape\n",
        "#   for x in range(height):\n",
        "#       for y in range(width):\n",
        "#           # node_label = str(x) + \",\" + str(y)  # label node with its x,y coordinates\n",
        "#           pixel_value = img_array[x, y]\n",
        "#           G.add_node(pixel_value)\n",
        "\n",
        "\n",
        "#   # connect adjacent pixels in the graph with edges\n",
        "#   for x in range(height):\n",
        "#       for y in range(width):\n",
        "#           node1_label = img_array[x,y]\n",
        "#           if x < height - 1:\n",
        "#               node2_label = img_array[x+1,y]\n",
        "#               G.add_edge(node1_label, node2_label)\n",
        "#           if y < width - 1:\n",
        "#               node3_label = img_array[x,y+1]\n",
        "#               G.add_edge(node1_label, node3_label)\n",
        "\n",
        "#   return G\n"
      ],
      "metadata": {
        "id": "9Y76mVd6WE_-"
      },
      "execution_count": 9,
      "outputs": []
    },
    {
      "cell_type": "code",
      "source": [
        "# # adding node feature to the graph\n",
        "# def add_node_features(G,img):\n",
        "#   img = img.convert('RGB')\n",
        "#   for node in G.nodes:\n",
        "#     G.nodes[node]['rgb'] = np.array([node,node,node])"
      ],
      "metadata": {
        "id": "Rmp8sorWAvql"
      },
      "execution_count": 10,
      "outputs": []
    },
    {
      "cell_type": "code",
      "source": [
        "import torch\n",
        "def edges_to_tensor(G):\n",
        "  nodes = []\n",
        "  for node in G.nodes():\n",
        "    nodes.append(node)\n",
        "  nodes\n",
        "  # Compute the edges of the graph\n",
        "  edges = []\n",
        "  for i in range(len(nodes)):\n",
        "      for j in range(i + 1, len(nodes)):\n",
        "          if abs(nodes[i][0] - nodes[j][0]) <= 1 and abs(nodes[i][1] - nodes[j][1]) <= 1:\n",
        "              edges.append((i, j))\n",
        "\n",
        "  # Convert the edges to a tensor\n",
        "  edge_index = torch.tensor(edges).t().contiguous()\n",
        "\n",
        "  return edge_index"
      ],
      "metadata": {
        "id": "aOZw8WMTbUgc"
      },
      "execution_count": 14,
      "outputs": []
    },
    {
      "cell_type": "code",
      "source": [
        "# converting the edges into tensor\n",
        "# def edges_to_tensor(G):\n",
        "#   edge_index = np.array(list(G.edges()))\n",
        "#   # count = 0\n",
        "\n",
        "#   # for i in range(len(edge_index)):\n",
        "#   #   for j in range(len(edge_index[0])):\n",
        "#   #     edge_index[i][j] = count\n",
        "#   #     count = count + 1\n",
        "\n",
        "#   edge_index = torch.from_numpy(edge_index).to(torch.long).t().contiguous()\n",
        "#   return edge_index "
      ],
      "metadata": {
        "id": "Tea1tD55QZDb"
      },
      "execution_count": 12,
      "outputs": []
    },
    {
      "cell_type": "code",
      "source": [
        "\n",
        "# Assuming the node features are stored as the 'rgb' attribute of each node\n",
        "# converting attributes to tensor\n",
        "def attributes_to_tensor(G):\n",
        "  num_nodes = len(G.nodes())\n",
        "  first_node = next(iter(G))   \n",
        "  num_features = len(G.nodes[first_node]['rgb'])\n",
        "  x = torch.zeros((num_nodes, num_features), dtype=torch.float)\n",
        "  for i, node in enumerate(G.nodes()):\n",
        "      x[i] = torch.tensor(G.nodes[node]['rgb'], dtype=torch.float)\n",
        "  return x\n",
        "\n"
      ],
      "metadata": {
        "id": "ADuKmy5oVivh"
      },
      "execution_count": 13,
      "outputs": []
    },
    {
      "cell_type": "code",
      "source": [
        "def add_labels(G,l):\n",
        "  # assign label to the graph\n",
        "  G.graph['label'] = l\n",
        "  \n",
        "  # converting to tensor\n",
        "  y = torch.tensor([G.graph['label']], dtype=torch.long)\n",
        "  return y"
      ],
      "metadata": {
        "id": "KYcsCNBAG85U"
      },
      "execution_count": 19,
      "outputs": []
    },
    {
      "cell_type": "code",
      "source": [
        "import torch\n",
        "import torch.nn.functional as F\n",
        "from torch.nn import Linear\n",
        "from torch_geometric.data import DataLoader\n",
        "from torch_geometric.nn import GCNConv, global_mean_pool\n",
        "import torch_geometric\n",
        "\n",
        "# Define the GCN model\n",
        "class GCN(torch.nn.Module):\n",
        "    def __init__(self):\n",
        "        super(GCN, self).__init__()\n",
        "        self.conv1 = GCNConv(3, 12) # 3 input channels (for RGB), 16 output channels\n",
        "        self.conv2 = GCNConv(12, 32) # 16 input channels, 32 output channels\n",
        "        self.conv3 = GCNConv(32, 64) # 32 input channels, 64 output channels\n",
        "        self.classifier = Linear(64, 2)\n",
        "        \n",
        "    def forward(self, x, edge_index):\n",
        "        x = F.relu(self.conv1(x, edge_index))\n",
        "        x = F.relu(self.conv2(x, edge_index))\n",
        "        x = F.relu(self.conv3(x, edge_index))\n",
        "        x = global_mean_pool(x, torch.zeros(x.size(0), dtype=torch.long))\n",
        "        out = self.classifier(x)\n",
        "        return out\n",
        "\n",
        "# Create the GCN model and optimizer\n",
        "model = GCN()\n",
        "criterion = torch.nn.CrossEntropyLoss()\n",
        "optimizer = torch.optim.Adam(model.parameters(), lr=0.01)\n",
        "\n",
        "# Train the model for a few epochs\n",
        "for epoch in range(10):\n",
        "    model.train()\n",
        "\n",
        "    for cl in classes:\n",
        "      train_new_path = train_path + cl\n",
        "      for img_name in os.listdir(train_new_path):\n",
        "\n",
        "        # functions are defined above\n",
        "        img = read_image(train_new_path+\"/\"+img_name)   # to access eah image \n",
        "        img_array = img_to_array(img)\n",
        "        G = img_to_graph(img_array)\n",
        "        # add_node_features(G,img)\n",
        "\n",
        "        edge_index = edges_to_tensor(G)\n",
        "        x = attributes_to_tensor(G)\n",
        "        y = add_labels(G,get_label(img_name))\n",
        "\n",
        "        optimizer.zero_grad()\n",
        "        out = model(x, edge_index)\n",
        "        # loss = criterion(out, y.unsqueeze(1))\n",
        "        loss = criterion(out,y)\n",
        "        # loss = F.cross_entropy(out,y)\n",
        "        loss.backward()\n",
        "        optimizer.step()\n",
        "    \n",
        "        # Evaluate the model on the validation set\n",
        "        model.eval()\n",
        "        correct = 0\n",
        "        total = 0\n",
        "\n",
        "        with torch.no_grad():\n",
        "            for cl in classes:\n",
        "              new_path = test_path + cl\n",
        "              for img_name in os.listdir(new_path):\n",
        "                # functions are defined above\n",
        "                img = read_image(new_path+\"/\"+img_name)\n",
        "                img_array = img_to_array(img)\n",
        "                G = img_to_graph(img_array)\n",
        "                # add_node_features(G,img)\n",
        "\n",
        "                edge_index = edges_to_tensor(G)\n",
        "                x = attributes_to_tensor(G)\n",
        "                y = add_labels(G,get_label(img_name))\n",
        "\n",
        "                out = model(x, edge_index)\n",
        "                pred = out.argmax(dim=1)\n",
        "\n",
        "                # plt.figure(figsize = (15,2))\n",
        "                # plt.imshow(img)\n",
        "                # plt.xlabel(pred)\n",
        "                # plt.show()\n",
        "\n",
        "                correct += (pred == y).sum().item()\n",
        "                total += 1\n",
        "        acc = correct / total\n",
        "        print(f\"Epoch {epoch+1}, val acc = {acc:.4f}\")\n"
      ],
      "metadata": {
        "colab": {
          "base_uri": "https://localhost:8080/",
          "height": 373
        },
        "id": "742qNToQXbU4",
        "outputId": "dc95ffc0-3aaf-4f9f-8994-222788f2f320"
      },
      "execution_count": 1,
      "outputs": [
        {
          "output_type": "error",
          "ename": "ModuleNotFoundError",
          "evalue": "ignored",
          "traceback": [
            "\u001b[0;31m---------------------------------------------------------------------------\u001b[0m",
            "\u001b[0;31mModuleNotFoundError\u001b[0m                       Traceback (most recent call last)",
            "\u001b[0;32m<ipython-input-1-ffc17b1c3ee2>\u001b[0m in \u001b[0;36m<module>\u001b[0;34m\u001b[0m\n\u001b[1;32m      2\u001b[0m \u001b[0;32mimport\u001b[0m \u001b[0mtorch\u001b[0m\u001b[0;34m.\u001b[0m\u001b[0mnn\u001b[0m\u001b[0;34m.\u001b[0m\u001b[0mfunctional\u001b[0m \u001b[0;32mas\u001b[0m \u001b[0mF\u001b[0m\u001b[0;34m\u001b[0m\u001b[0;34m\u001b[0m\u001b[0m\n\u001b[1;32m      3\u001b[0m \u001b[0;32mfrom\u001b[0m \u001b[0mtorch\u001b[0m\u001b[0;34m.\u001b[0m\u001b[0mnn\u001b[0m \u001b[0;32mimport\u001b[0m \u001b[0mLinear\u001b[0m\u001b[0;34m\u001b[0m\u001b[0;34m\u001b[0m\u001b[0m\n\u001b[0;32m----> 4\u001b[0;31m \u001b[0;32mfrom\u001b[0m \u001b[0mtorch_geometric\u001b[0m\u001b[0;34m.\u001b[0m\u001b[0mdata\u001b[0m \u001b[0;32mimport\u001b[0m \u001b[0mDataLoader\u001b[0m\u001b[0;34m\u001b[0m\u001b[0;34m\u001b[0m\u001b[0m\n\u001b[0m\u001b[1;32m      5\u001b[0m \u001b[0;32mfrom\u001b[0m \u001b[0mtorch_geometric\u001b[0m\u001b[0;34m.\u001b[0m\u001b[0mnn\u001b[0m \u001b[0;32mimport\u001b[0m \u001b[0mGCNConv\u001b[0m\u001b[0;34m,\u001b[0m \u001b[0mglobal_mean_pool\u001b[0m\u001b[0;34m\u001b[0m\u001b[0;34m\u001b[0m\u001b[0m\n\u001b[1;32m      6\u001b[0m \u001b[0;32mimport\u001b[0m \u001b[0mtorch_geometric\u001b[0m\u001b[0;34m\u001b[0m\u001b[0;34m\u001b[0m\u001b[0m\n",
            "\u001b[0;31mModuleNotFoundError\u001b[0m: No module named 'torch_geometric'",
            "",
            "\u001b[0;31m---------------------------------------------------------------------------\u001b[0;32m\nNOTE: If your import is failing due to a missing package, you can\nmanually install dependencies using either !pip or !apt.\n\nTo view examples of installing some common dependencies, click the\n\"Open Examples\" button below.\n\u001b[0;31m---------------------------------------------------------------------------\u001b[0m\n"
          ],
          "errorDetails": {
            "actions": [
              {
                "action": "open_url",
                "actionText": "Open Examples",
                "url": "/notebooks/snippets/importing_libraries.ipynb"
              }
            ]
          }
        }
      ]
    },
    {
      "cell_type": "code",
      "source": [],
      "metadata": {
        "id": "d7mRPqVNr0BK"
      },
      "execution_count": null,
      "outputs": []
    }
  ]
}